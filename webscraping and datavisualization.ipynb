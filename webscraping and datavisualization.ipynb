{
 "cells": [
  {
   "cell_type": "code",
   "execution_count": 1,
   "metadata": {},
   "outputs": [
    {
     "name": "stdout",
     "output_type": "stream",
     "text": [
      "Internationa Conference on Advanced Information System , E-Education and Development\n",
      "The 6th IEEE International Symposium on   Service-Oriented System Engineering\n",
      "The 3rd International Workshop on Cognitive-based Text Understanding and Web Wisdom\n",
      "Computer Science and Engineering 2011\n",
      "16th International ITA Workshop\n",
      "Joomla Day Midwest\n",
      "IADIS International Conference WWW/Internet 2011\n",
      "Social India Conference 2011\n",
      "The 2011 International Conference and Workshop on Current Trends in Information Technology\n",
      "The 11th IFIP Conference on e-Business, e-Service, e-Society\n",
      "Silicon Valley Conference\n",
      "newdomains.org - The Munich Conference on new gTLDs\n",
      "Workshop on Software Services Semantic-based software services\n",
      "TAVA11 - Special Track on Theory and Applications of Visual Analytics\n",
      "2011 International Conference on Active Media Technology\n",
      "Fourth International Conference on Internet Technologies and Applications\n",
      "The 8th Annual Collaboration, Electronic messaging, Anti-Abuse and Spam Conference\n",
      "EEUK\n",
      "8th International Conference Computer Graphics, Imaging and Visualization\n",
      "HostingCon 2011\n",
      "\n",
      "Feb 08, 2012\n",
      "\n",
      "Dec 14, 2011\n",
      "\n",
      "\n",
      "Nov 26, 2011\n",
      "\n",
      "Nov 24, 2011\n",
      "\n",
      "Nov 12, 2011\n",
      "\n",
      "Nov 08, 2011\n",
      "\n",
      "\n",
      "Oct 27, 2011\n",
      "\n",
      "Oct 14, 2011\n",
      "\n",
      "Oct 10, 2011\n",
      "\n",
      "Sep 27, 2011\n",
      "\n",
      "Sep 21, 2011\n",
      "\n",
      "Sep 07, 2011\n",
      "\n",
      "Sep 09, 2011\n",
      "\n",
      "Sep 09, 2011\n",
      "\n",
      "Sep 02, 2011\n",
      "\n",
      "Aug 26, 2011\n",
      "\n",
      "Aug 19, 2011\n",
      "\n",
      "Aug 10, 2011\n",
      "L2 Clinic Video  Celebrity\n",
      "International Conference on High-Performance Architecture and Grid Computing (HPAGC-2011)\n",
      "Mobile  e-Marketing Conference 2011\n",
      "International Symposium on Communicability, Computer Graphics and Innovative Design for Interactive \n",
      "The Next Level of Social Media Marketing Beyond the Basics (3-Part Intensive)\n",
      "7th International Workshop on Automated Specification and Verification of Web Systems  (WWV 2011)\n",
      "E-Learning Symposium 2011 Austin\n",
      "Interlink Web Design Conference\n",
      "International Conference on Web Intelligence, Mining and Semantics\n",
      "Online Retailing Conference  Exhibition 2011\n",
      "COM.Geo 2011 2nd International Conference and Exhibition on Computing for Geospatial Research and A\n",
      "Social Media Legal Risks and Strategies\n",
      "Managing the Implementation of ENTERPRISE 2.0\n",
      "Designing Usable Web and Mobile Applications\n",
      "Leveraging LinkedIn, Facebook and Twitter\n",
      "16th Annual European Multimedia Conference\n",
      "Search Engine Marketing Tips and Tactics a a free event\n",
      "Hactivism - An Ethical Hackers Battle\n",
      "HackSec 2011 An Ethical Hacking Workshop\n",
      "HackSec 2011 An Ethical Hacking Workshop\n",
      "\n",
      "\n",
      "Jul 20, 2011\n",
      "\n",
      "Jul 14, 2011\n",
      "\n",
      "Jun 29, 2011\n",
      "\n",
      "Jun 29, 2011\n",
      "\n",
      "Jun 09, 2011\n",
      "\n",
      "Jun 08, 2011\n",
      "\n",
      "Jun 04, 2011\n",
      "\n",
      "May 27, 2011\n",
      "\n",
      "May 25, 2011\n",
      "\n",
      "May 25, 2011\n",
      "\n",
      "May 19, 2011\n",
      "\n",
      "May 06, 2011\n",
      "\n",
      "May 04, 2011\n",
      "\n",
      "\n",
      "Apr 20, 2011\n",
      "\n",
      "\n",
      "Apr 02, 2011\n",
      "\n",
      "Mar 29, 2011\n",
      "\n",
      "Mar 29, 2011\n",
      "The IntegrateIT Summit 2011\n",
      "International Conference on Web Technologies  Internet Applications (WebTech 2011)\n",
      "The 3rd National Information Technology Symposium\n",
      "ICDCIT-2011 (The Seventh International Conference on Distributed Computing and Internet Technology)\n",
      "PHPBenelux Conference 2011\n",
      "IEEE International Conference on Service-Oritented Computing and Applications\n",
      "2010 International Workshop on Cognitive-based Interactive Computing and Web Wisdom (CICW\n",
      "The 9th International Conference on Web-based Learning (ICWL 2010)\n",
      "Intl. Workshop on Ontologies for Multimedia Interpretation and Retrieval //at SAMT 2010\n",
      "Boston Digital Marketing Summit December 1st, 2010, 100 pm onwards\n",
      "Strategic Internal Communications\n",
      "UP! 2010 Cloud Computing Conference\n",
      "How to Achieve Landing Page Success\n",
      "How To Web 2010\n",
      "The 19th ACM International Conference on Information and Knowledge Management\n",
      "Advances in New Technologies, Interactive Interfaces and Communicability E-tourism, E-commerce, E-l\n",
      "1st International Conference of AGIS Access for All in the desktop, web and mobile field an end-u\n",
      "Facebook Success Summit 2010\n",
      "PPC Summit presents Search  Social Media Success\n",
      "12th ANNUAL CONFERENCE ON WORLD WIDE WEB APPLICATIONS\n",
      "\n",
      "Mar 25, 2011\n",
      "\n",
      "Mar 15, 2011\n",
      "\n",
      "Mar 09, 2011\n",
      "\n",
      "Feb 12, 2011\n",
      "\n",
      "Jan 29, 2011\n",
      "\n",
      "Dec 15, 2010\n",
      "\n",
      "Dec 10, 2010\n",
      "\n",
      "Dec 10, 2010\n",
      "\n",
      "Dec 03, 2010\n",
      "\n",
      "Dec 01, 2010\n",
      "\n",
      "Nov 18, 2010\n",
      "\n",
      "Nov 19, 2010\n",
      "\n",
      "\n",
      "Nov 04, 2010\n",
      "\n",
      "Oct 30, 2010\n",
      "\n",
      "Oct 22, 2010\n",
      "\n",
      "Oct 09, 2010\n",
      "\n",
      "Oct 26, 2010\n",
      "\n",
      "Sep 22, 2010\n",
      "\n",
      "Sep 23, 2010\n",
      "Social Media World Middle East 2010\n",
      "User Experience Masterclass\n",
      "DjangoCon US 2010\n",
      "2010 IEEE/WIC/ACM International Conference on Intelligent Agent Technology\n",
      "010 IEEE/WIC/ACM International Conference on Web Intelligence\n",
      "SPeL 2010 (3rd International Workshop on Social and Personal Computing for Web-Supported Learning Co\n",
      "2010 International Conference on Active Media Technology\n",
      "2010 International Conference on Brain Informatics\n",
      "Fourteenth International Database Engineering  Applications Symposium\n",
      "BIzConf\n",
      "Ventureneer Webinar Shows Nonprofit Leaders How to Build Visibility, Donor-Base UsingLinkedIn\n",
      "International Conference on Information Security and Privacy\n",
      "Voices That Matter Web Design Conference\n",
      "Designing Web 2.0 Applications\n",
      "Enterprise 2.0\n",
      "Search Exchange\n",
      "13th INTERNATIONAL CONFERENCE on BUSINESS INFORMATION SYSTEMS\n",
      "A Call for Research and Action Agenda for a National Broadband Initiative\n",
      "International Conference on Special Education\n",
      "2nd International Workshop on Benchmarking of Database Management Systems and Data-Oriented Web Tech\n",
      "\n",
      "Sep 22, 2010\n",
      "\n",
      "Sep 20, 2010\n",
      "\n",
      "Sep 09, 2010\n",
      "\n",
      "\n",
      "Sep 03, 2010\n",
      "\n",
      "Sep 03, 2010\n",
      "\n",
      "Aug 30, 2010\n",
      "\n",
      "\n",
      "Aug 18, 2010\n",
      "\n",
      "Aug 06, 2010\n",
      "\n",
      "Jul 14, 2010\n",
      "\n",
      "\n",
      "Jun 29, 2010\n",
      "\n",
      "Jun 18, 2010\n",
      "\n",
      "May 21, 2010\n",
      "\n",
      "May 19, 2010\n",
      "\n",
      "May 05, 2010\n",
      "\n",
      "\n",
      "Apr 17, 2010\n",
      "\n",
      "Apr 04, 2010\n",
      "Bruce Clay SEO Training at SES New York\n",
      "The Eighth IASTED International Conference on Web-based Education WBE 2010\n",
      "Web Studies 1st international congress\n",
      "\n",
      "\n",
      "Mar 17, 2010\n",
      "\n",
      "Mar 05, 2010\n"
     ]
    }
   ],
   "source": [
    "\n",
    "import requests\n",
    "import pandas as pd\n",
    "from bs4 import BeautifulSoup\n",
    "pages = []\n",
    "conf_name = []\n",
    "conf_date = []\n",
    "for i in range(1, 6):\n",
    "      url = 'http://www.allconferences.com/search/index/Category__parent_id:493194/Conference__start_date__from:03-03-2010/Conference__start_date__to:03-03-2012/showLastConference:1/page:' + str(i) + '/'\n",
    "     \n",
    "    \n",
    "      pages.append(url)\n",
    "        \n",
    "for page in pages: \n",
    "    #collecting the first page of conferences and creating a beautiful soup object\n",
    "    page = requests.get(page)\n",
    "    soup = BeautifulSoup(page.text, 'html.parser')\n",
    "\n",
    "    #Extracting the text form the webpage from the div element with class categories_conferences\n",
    "    C_list = soup.find(id ='categories_conferences')\n",
    "\n",
    "    #Removing the links and Superfluous Data from the text\n",
    "    last_links_1 = soup.find(class_='order_option')\n",
    "    last_links_1.decompose()\n",
    "    last_links_2 = soup.find(class_='pager')\n",
    "    last_links_2.decompose()\n",
    "    last_links_3 = soup.find(id='categoryViewFormEmptList')\n",
    "    last_links_3.decompose()\n",
    "\n",
    "    #extracting text from all the instances of h2 tag within the div element\n",
    "    list_items = C_list.find_all('h2')\n",
    "\n",
    "    for x in list_items:\n",
    "        names = x.a.text\n",
    "        conf_name.append(names)\n",
    "        print(names)\n",
    "\n",
    "    list_items_date = C_list.find_all('span')\n",
    "    \n",
    "    for k in list_items_date:\n",
    "        date = k.contents[1].strip()\n",
    "        conf_date.append(date)\n",
    "        print(date)"
   ]
  },
  {
   "cell_type": "code",
   "execution_count": 2,
   "metadata": {},
   "outputs": [
    {
     "name": "stdout",
     "output_type": "stream",
     "text": [
      "[u'Internationa Conference on Advanced Information System , E-Education and Development', u'The 6th IEEE International Symposium on   Service-Oriented System Engineering', u'The 3rd International Workshop on Cognitive-based Text Understanding and Web Wisdom', u'Computer Science and Engineering 2011', u'16th International ITA Workshop', u'Joomla Day Midwest', u'IADIS International Conference WWW/Internet 2011', u'Social India Conference 2011', u'The 2011 International Conference and Workshop on Current Trends in Information Technology', u'The 11th IFIP Conference on e-Business, e-Service, e-Society', u'Silicon Valley Conference', u'newdomains.org - The Munich Conference on new gTLDs', u'Workshop on Software Services Semantic-based software services', u'TAVA11 - Special Track on Theory and Applications of Visual Analytics', u'2011 International Conference on Active Media Technology', u'Fourth International Conference on Internet Technologies and Applications', u'The 8th Annual Collaboration, Electronic messaging, Anti-Abuse and Spam Conference', u'EEUK', u'8th International Conference Computer Graphics, Imaging and Visualization', u'HostingCon 2011', u'L2 Clinic Video  Celebrity', u'International Conference on High-Performance Architecture and Grid Computing (HPAGC-2011)', u'Mobile  e-Marketing Conference 2011', u'International Symposium on Communicability, Computer Graphics and Innovative Design for Interactive ', u'The Next Level of Social Media Marketing Beyond the Basics (3-Part Intensive)', u'7th International Workshop on Automated Specification and Verification of Web Systems  (WWV 2011)', u'E-Learning Symposium 2011 Austin', u'Interlink Web Design Conference', u'International Conference on Web Intelligence, Mining and Semantics', u'Online Retailing Conference  Exhibition 2011', u'COM.Geo 2011 2nd International Conference and Exhibition on Computing for Geospatial Research and A', u'Social Media Legal Risks and Strategies', u'Managing the Implementation of ENTERPRISE 2.0', u'Designing Usable Web and Mobile Applications', u'Leveraging LinkedIn, Facebook and Twitter', u'16th Annual European Multimedia Conference', u'Search Engine Marketing Tips and Tactics a a free event', u'Hactivism - An Ethical Hackers Battle', u'HackSec 2011 An Ethical Hacking Workshop', u'HackSec 2011 An Ethical Hacking Workshop', u'The IntegrateIT Summit 2011', u'International Conference on Web Technologies  Internet Applications (WebTech 2011)', u'The 3rd National Information Technology Symposium', u'ICDCIT-2011 (The Seventh International Conference on Distributed Computing and Internet Technology)', u'PHPBenelux Conference 2011', u'IEEE International Conference on Service-Oritented Computing and Applications', u'2010 International Workshop on Cognitive-based Interactive Computing and Web Wisdom (CICW', u'The 9th International Conference on Web-based Learning (ICWL 2010)', u'Intl. Workshop on Ontologies for Multimedia Interpretation and Retrieval //at SAMT 2010', u'Boston Digital Marketing Summit December 1st, 2010, 100 pm onwards', u'Strategic Internal Communications', u'UP! 2010 Cloud Computing Conference', u'How to Achieve Landing Page Success', u'How To Web 2010', u'The 19th ACM International Conference on Information and Knowledge Management', u'Advances in New Technologies, Interactive Interfaces and Communicability E-tourism, E-commerce, E-l', u'1st International Conference of AGIS Access for All in the desktop, web and mobile field an end-u', u'Facebook Success Summit 2010', u'PPC Summit presents Search  Social Media Success', u'12th ANNUAL CONFERENCE ON WORLD WIDE WEB APPLICATIONS', u'Social Media World Middle East 2010', u'User Experience Masterclass', u'DjangoCon US 2010', u'2010 IEEE/WIC/ACM International Conference on Intelligent Agent Technology', u'010 IEEE/WIC/ACM International Conference on Web Intelligence', u'SPeL 2010 (3rd International Workshop on Social and Personal Computing for Web-Supported Learning Co', u'2010 International Conference on Active Media Technology', u'2010 International Conference on Brain Informatics', u'Fourteenth International Database Engineering  Applications Symposium', u'BIzConf', u'Ventureneer Webinar Shows Nonprofit Leaders How to Build Visibility, Donor-Base UsingLinkedIn', u'International Conference on Information Security and Privacy', u'Voices That Matter Web Design Conference', u'Designing Web 2.0 Applications', u'Enterprise 2.0', u'Search Exchange', u'13th INTERNATIONAL CONFERENCE on BUSINESS INFORMATION SYSTEMS', u'A Call for Research and Action Agenda for a National Broadband Initiative', u'International Conference on Special Education', u'2nd International Workshop on Benchmarking of Database Management Systems and Data-Oriented Web Tech', u'Bruce Clay SEO Training at SES New York', u'The Eighth IASTED International Conference on Web-based Education WBE 2010', u'Web Studies 1st international congress']\n"
     ]
    }
   ],
   "source": [
    "print(conf_name)"
   ]
  },
  {
   "cell_type": "code",
   "execution_count": 4,
   "metadata": {},
   "outputs": [
    {
     "name": "stdout",
     "output_type": "stream",
     "text": [
      "[u'Feb 08, 2012', u'Dec 14, 2011', u'Nov 26, 2011', u'Nov 24, 2011', u'Nov 12, 2011', u'Nov 08, 2011', u'Oct 27, 2011', u'Oct 14, 2011', u'Oct 10, 2011', u'Sep 27, 2011', u'Sep 21, 2011', u'Sep 07, 2011', u'Sep 09, 2011', u'Sep 09, 2011', u'Sep 02, 2011', u'Aug 26, 2011', u'Aug 19, 2011', u'Aug 10, 2011', u'Jul 20, 2011', u'Jul 14, 2011', u'Jun 29, 2011', u'Jun 29, 2011', u'Jun 09, 2011', u'Jun 08, 2011', u'Jun 04, 2011', u'May 27, 2011', u'May 25, 2011', u'May 25, 2011', u'May 19, 2011', u'May 06, 2011', u'May 04, 2011', u'Apr 20, 2011', u'Apr 02, 2011', u'Mar 29, 2011', u'Mar 29, 2011', u'Mar 25, 2011', u'Mar 15, 2011', u'Mar 09, 2011', u'Feb 12, 2011', u'Jan 29, 2011', u'Dec 15, 2010', u'Dec 10, 2010', u'Dec 10, 2010', u'Dec 03, 2010', u'Dec 01, 2010', u'Nov 18, 2010', u'Nov 19, 2010', u'Nov 04, 2010', u'Oct 30, 2010', u'Oct 22, 2010', u'Oct 09, 2010', u'Oct 26, 2010', u'Sep 22, 2010', u'Sep 23, 2010', u'Sep 22, 2010', u'Sep 20, 2010', u'Sep 09, 2010', u'Sep 03, 2010', u'Sep 03, 2010', u'Aug 30, 2010', u'Aug 18, 2010', u'Aug 06, 2010', u'Jul 14, 2010', u'Jun 29, 2010', u'Jun 18, 2010', u'May 21, 2010', u'May 19, 2010', u'May 05, 2010', u'Apr 17, 2010', u'Apr 04, 2010', u'Mar 17, 2010', u'Mar 05, 2010']\n"
     ]
    }
   ],
   "source": [
    "\n",
    "while(\"\" in conf_date) : \n",
    "    conf_date.remove(\"u'\")\n",
    "print(conf_date)"
   ]
  },
  {
   "cell_type": "code",
   "execution_count": 15,
   "metadata": {},
   "outputs": [
    {
     "name": "stdout",
     "output_type": "stream",
     "text": [
      "2010-03    2\n",
      "2010-04    2\n",
      "2010-05    3\n",
      "2010-06    2\n",
      "2010-07    1\n",
      "2010-08    3\n",
      "2010-09    7\n",
      "2010-10    4\n",
      "2010-11    3\n",
      "2010-12    5\n",
      "2011-01    1\n",
      "2011-02    1\n",
      "2011-03    5\n",
      "2011-04    2\n",
      "2011-05    6\n",
      "2011-06    5\n",
      "2011-07    2\n",
      "2011-08    3\n",
      "2011-09    6\n",
      "2011-10    3\n",
      "2011-11    4\n",
      "2011-12    1\n",
      "2012-01    0\n",
      "2012-02    1\n",
      "Freq: M, dtype: int64\n"
     ]
    }
   ],
   "source": [
    "\n",
    "s = pd.to_datetime(pd.Series(conf_date), format='%b %d, %Y',errors=\"coerce\")\n",
    "s.index = s.dt.to_period('m')\n",
    "s = s.groupby(level=0).size()\n",
    "\n",
    "s = s.reindex(pd.period_range(s.index.min(), s.index.max(), freq='m'), fill_value=0)\n",
    "\n",
    "#Printing the count of conferences that took place in each month\n",
    "print (s)"
   ]
  },
  {
   "cell_type": "code",
   "execution_count": 17,
   "metadata": {},
   "outputs": [
    {
     "data": {
      "text/plain": [
       "<matplotlib.axes._subplots.AxesSubplot at 0xb9eb470>"
      ]
     },
     "execution_count": 17,
     "metadata": {},
     "output_type": "execute_result"
    },
    {
     "data": {
      "image/png": "[encoded data removed]",
      "text/plain": [
       "<Figure size 432x288 with 1 Axes>"
      ]
     },
     "metadata": {
      "needs_background": "light"
     },
     "output_type": "display_data"
    }
   ],
   "source": [
    "s.plot.bar(title='Conferences 2010-2011')"
   ]
  },
  {
   "cell_type": "code",
   "execution_count": 18,
   "metadata": {},
   "outputs": [
    {
     "data": {
      "text/plain": [
       "<matplotlib.axes._subplots.AxesSubplot at 0xa8d6a20>"
      ]
     },
     "execution_count": 18,
     "metadata": {},
     "output_type": "execute_result"
    },
    {
     "data": {
      "image/png": "[encoded data removed]",
      "text/plain": [
       "<Figure size 432x288 with 1 Axes>"
      ]
     },
     "metadata": {},
     "output_type": "display_data"
    }
   ],
   "source": [
    "s.plot.pie(title='Conferences 2010-2011')"
   ]
  },
  {
   "cell_type": "code",
   "execution_count": 19,
   "metadata": {},
   "outputs": [
    {
     "data": {
      "text/plain": [
       "<matplotlib.axes._subplots.AxesSubplot at 0xbc14710>"
      ]
     },
     "execution_count": 19,
     "metadata": {},
     "output_type": "execute_result"
    },
    {
     "data": {
      "image/png": "[encoded data removed]",
      "text/plain": [
       "<Figure size 432x288 with 1 Axes>"
      ]
     },
     "metadata": {
      "needs_background": "light"
     },
     "output_type": "display_data"
    }
   ],
   "source": [
    "s.plot.line(title='Conferences 2010-2011')"
   ]
  },
  {
   "cell_type": "code",
   "execution_count": 20,
   "metadata": {},
   "outputs": [
    {
     "data": {
      "text/plain": [
       "<matplotlib.axes._subplots.AxesSubplot at 0xb0c56a0>"
      ]
     },
     "execution_count": 20,
     "metadata": {},
     "output_type": "execute_result"
    },
    {
     "data": {
      "image/png": "[encoded data removed]",
      "text/plain": [
       "<Figure size 432x288 with 1 Axes>"
      ]
     },
     "metadata": {
      "needs_background": "light"
     },
     "output_type": "display_data"
    }
   ],
   "source": [
    "s.plot.barh(title='Conferences 2010-2011')"
   ]
  },
  {
   "cell_type": "code",
   "execution_count": null,
   "metadata": {},
   "outputs": [],
   "source": []
  }
 ],
 "metadata": {
  "kernelspec": {
   "display_name": "Python 2",
   "language": "python",
   "name": "python2"
  },
  "language_info": {
   "codemirror_mode": {
    "name": "ipython",
    "version": 2
   },
   "file_extension": ".py",
   "mimetype": "text/x-python",
   "name": "python",
   "nbconvert_exporter": "python",
   "pygments_lexer": "ipython2",
   "version": "2.7.16"
  }
 },
 "nbformat": 4,
 "nbformat_minor": 2
}
